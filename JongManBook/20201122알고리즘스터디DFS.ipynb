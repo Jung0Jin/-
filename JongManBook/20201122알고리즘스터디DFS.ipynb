{
 "cells": [
  {
   "cell_type": "markdown",
   "metadata": {},
   "source": [
    "# 출처 : https://juhee-maeng.tistory.com/25"
   ]
  },
  {
   "cell_type": "code",
   "execution_count": 1,
   "metadata": {},
   "outputs": [],
   "source": [
    "graph = {'A':['B','C'],\n",
    "        'B':['A', 'D', 'E'],\n",
    "        'C':['A', 'G', 'H'],\n",
    "        'D':['B'],\n",
    "        'E':['B','F'],\n",
    "        'F':['E'],\n",
    "        'G':['C'],\n",
    "        'H':['C']}"
   ]
  },
  {
   "cell_type": "markdown",
   "metadata": {},
   "source": [
    "# 반복문(iteration)을 이용해서 DFS 구현하기\n",
    "\n",
    "# DFS는 stack을 이용해서 BFS는 QUEUE"
   ]
  },
  {
   "cell_type": "code",
   "execution_count": 77,
   "metadata": {},
   "outputs": [],
   "source": [
    "def dfs_iteration(graph, root):\n",
    "    # visited = 방문한 꼭지점들을 기록한 리스트\n",
    "    visited = []\n",
    "    # dfs는 stack, bfs는 queue 개념을 이용한다.\n",
    "    stack = [root]\n",
    "    \n",
    "    while(stack): #스택에 남은것이 없을 때 까지 반복\n",
    "        node = stack.pop() # node : 현재 방문하고 있는 꼭지점\n",
    "        \n",
    "        #현재 node가 방문한 적 없다 -> visited에 추가한다.\n",
    "        #그리고 해당 node의 자식 node들을 stack에 추가한다.\n",
    "        if(node not in visited):\n",
    "            visited.append(node)\n",
    "            stack.extend(graph[node])\n",
    "    return visited"
   ]
  },
  {
   "cell_type": "code",
   "execution_count": 78,
   "metadata": {},
   "outputs": [
    {
     "data": {
      "text/plain": [
       "['A', 'C', 'H', 'G', 'B', 'E', 'F', 'D']"
      ]
     },
     "execution_count": 78,
     "metadata": {},
     "output_type": "execute_result"
    }
   ],
   "source": [
    "dfs_iteration(graph, 'A')"
   ]
  },
  {
   "cell_type": "markdown",
   "metadata": {},
   "source": [
    "# 재귀(recursive)적으로 구현\n",
    "\n",
    "# visited.append(node)와 visited = visited + [node]를 상황에 따라 다르게 사용해야 한다.\n",
    "\n",
    "# 재귀(recursive)를 이용해서 DFS 구현하기"
   ]
  },
  {
   "cell_type": "code",
   "execution_count": 92,
   "metadata": {},
   "outputs": [],
   "source": [
    "def dfs_recursive(graph, start, visited=[]):\n",
    "    \n",
    "    visited.append(start)\n",
    "    print(visited) # 추가된 print(visited)\n",
    "    \n",
    "    for node in graph[start]:\n",
    "        if node not in visited:\n",
    "            dfs_recursive(graph, node, visited)\n",
    "            \n",
    "    return visited"
   ]
  },
  {
   "cell_type": "code",
   "execution_count": 93,
   "metadata": {},
   "outputs": [
    {
     "name": "stdout",
     "output_type": "stream",
     "text": [
      "['A']\n",
      "['A', 'B']\n",
      "['A', 'B', 'D']\n",
      "['A', 'B', 'D', 'E']\n",
      "['A', 'B', 'D', 'E', 'F']\n",
      "['A', 'B', 'D', 'E', 'F', 'C']\n",
      "['A', 'B', 'D', 'E', 'F', 'C', 'G']\n",
      "['A', 'B', 'D', 'E', 'F', 'C', 'G', 'H']\n"
     ]
    },
    {
     "data": {
      "text/plain": [
       "['A', 'B', 'D', 'E', 'F', 'C', 'G', 'H']"
      ]
     },
     "execution_count": 93,
     "metadata": {},
     "output_type": "execute_result"
    }
   ],
   "source": [
    "dfs_recursive(graph, 'A')"
   ]
  },
  {
   "cell_type": "code",
   "execution_count": 94,
   "metadata": {},
   "outputs": [],
   "source": [
    "def dfs_recursive(graph, start, visited=[]):\n",
    "    \n",
    "    visited = visited + [start] ## visited.append(start)대신 visited = visited + [start]를 대입\n",
    "    print(id(visited))\n",
    "\n",
    "    for node in graph[start]:\n",
    "        if node not in visited:\n",
    "            dfs_recursive(graph, node, visited)\n",
    "    \n",
    "    return visited"
   ]
  },
  {
   "cell_type": "code",
   "execution_count": 95,
   "metadata": {},
   "outputs": [
    {
     "name": "stdout",
     "output_type": "stream",
     "text": [
      "2048905580736\n",
      "2048906774528\n",
      "2048905986176\n",
      "2048905980928\n",
      "2048905947008\n",
      "2048905980928\n",
      "2048905947008\n",
      "2048906774528\n"
     ]
    },
    {
     "data": {
      "text/plain": [
       "['A']"
      ]
     },
     "execution_count": 95,
     "metadata": {},
     "output_type": "execute_result"
    }
   ],
   "source": [
    "# 왜 이런 결과값이 나오는지 궁금하다면, 함수가 호출될때마다 visited에 어떤 변화가 있는지 한번 보도록 하자.\n",
    "dfs_recursive(graph, 'A')"
   ]
  },
  {
   "cell_type": "markdown",
   "metadata": {},
   "source": [
    "# visited = visited + [node]를 하게 되면 두 visited가 서로 다른 리스트를 참조하게 되므로, 재귀 함수를 호출하면서 생기는 많은 함수들이 어떤 하나의 리스트에 모든 결과를 반영하는 것이 아니라 각자 독자적인 리스트를 갖게 되므로, 저런 결과가 생긴다.\n",
    "\n",
    "# 각자 독자적인 리스트를 주면서, 앞의 visited.append(node)의 효과를 주고 싶다면 한 가지만 더 수정해주면 된다.\n",
    "\n",
    "# for문 안에 재귀 함수가 호출되는 부분에 visited = dfs_recursive(graph, node, visited)로 수정해주자."
   ]
  },
  {
   "cell_type": "code",
   "execution_count": 96,
   "metadata": {},
   "outputs": [],
   "source": [
    "def dfs_recursive(graph, start, visited=[]):\n",
    "    \n",
    "    visited = visited + [start]\n",
    "    print(visited)\n",
    "    \n",
    "    for node in graph[start]:\n",
    "        if node not in visited:\n",
    "            visited = dfs_recursive(graph, node, visited) # 수정된 부분\n",
    "            \n",
    "    return visited"
   ]
  },
  {
   "cell_type": "code",
   "execution_count": 97,
   "metadata": {},
   "outputs": [
    {
     "name": "stdout",
     "output_type": "stream",
     "text": [
      "['A']\n",
      "['A', 'B']\n",
      "['A', 'B', 'D']\n",
      "['A', 'B', 'D', 'E']\n",
      "['A', 'B', 'D', 'E', 'F']\n",
      "['A', 'B', 'D', 'E', 'F', 'C']\n",
      "['A', 'B', 'D', 'E', 'F', 'C', 'G']\n",
      "['A', 'B', 'D', 'E', 'F', 'C', 'G', 'H']\n"
     ]
    },
    {
     "data": {
      "text/plain": [
       "['A', 'B', 'D', 'E', 'F', 'C', 'G', 'H']"
      ]
     },
     "execution_count": 97,
     "metadata": {},
     "output_type": "execute_result"
    }
   ],
   "source": [
    "# 각자 독자적인 list를 갖는 건 마찬가지지만, 전에 일어난 일들을 반영하게 해주는 식.\n",
    "dfs_recursive(graph, 'A')"
   ]
  },
  {
   "cell_type": "markdown",
   "metadata": {},
   "source": [
    "# DFS 경로 탐색은 어떻게 할까?\n",
    "\n",
    "# 예를 드어, A부터 H까지 갈 수 있는 가능한 경로를 모두 알아보고 싶다. 방문 순서를 순서대로 기록할 필요가 있다. (독자적으로 리스트를 할당받아야 할 것 같다.)"
   ]
  },
  {
   "cell_type": "code",
   "execution_count": 98,
   "metadata": {},
   "outputs": [],
   "source": [
    "# 새로운 graph\n",
    "graph = {'A':['B','C'],\n",
    "         'B':['A','D','E'],\n",
    "         'C':['A','F','G'],\n",
    "         'D':['B'],\n",
    "         'E':['B','H'],\n",
    "         'F':['C','H'],\n",
    "         'G':['C'],\n",
    "         'H':['E','F']}"
   ]
  },
  {
   "cell_type": "code",
   "execution_count": 99,
   "metadata": {},
   "outputs": [],
   "source": [
    "paths = []\n",
    "\n",
    "def dfs_paths(graph, start, end, visited=[]):\n",
    "    # 그 전에 방문했던 노드들을 기록하고\n",
    "    # 이번 차례에 방문하는 노드를 새로 추가한다.\n",
    "    visited = visited + [start]\n",
    "    \n",
    "    # 도착할 경우, paths에 경로를 기록한다.\n",
    "    if start == end:\n",
    "        paths.append(visited)\n",
    "        \n",
    "    # 현재 노드의 자손 노드들 중, 방문하지 않은 노드들에 대해 재귀 호출\n",
    "    \n",
    "    for node in graph[start]:\n",
    "        if node not in visited:\n",
    "            dfs_paths(graph, node, end, visited)"
   ]
  },
  {
   "cell_type": "code",
   "execution_count": 100,
   "metadata": {},
   "outputs": [],
   "source": [
    "dfs_paths(graph, 'A', 'H')"
   ]
  },
  {
   "cell_type": "code",
   "execution_count": 101,
   "metadata": {},
   "outputs": [
    {
     "data": {
      "text/plain": [
       "[['A', 'B', 'E', 'H'], ['A', 'C', 'F', 'H']]"
      ]
     },
     "execution_count": 101,
     "metadata": {},
     "output_type": "execute_result"
    }
   ],
   "source": [
    "paths"
   ]
  },
  {
   "cell_type": "code",
   "execution_count": null,
   "metadata": {},
   "outputs": [],
   "source": []
  }
 ],
 "metadata": {
  "kernelspec": {
   "display_name": "Python 3",
   "language": "python",
   "name": "python3"
  },
  "language_info": {
   "codemirror_mode": {
    "name": "ipython",
    "version": 3
   },
   "file_extension": ".py",
   "mimetype": "text/x-python",
   "name": "python",
   "nbconvert_exporter": "python",
   "pygments_lexer": "ipython3",
   "version": "3.8.3"
  }
 },
 "nbformat": 4,
 "nbformat_minor": 4
}
